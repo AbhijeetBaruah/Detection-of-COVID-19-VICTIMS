{
  "nbformat": 4,
  "nbformat_minor": 0,
  "metadata": {
    "colab": {
      "name": "IC1.ipynb",
      "provenance": [],
      "collapsed_sections": []
    },
    "kernelspec": {
      "name": "python3",
      "display_name": "Python 3"
    },
    "accelerator": "GPU"
  },
  "cells": [
    {
      "cell_type": "code",
      "metadata": {
        "id": "8QcYoa6wGB-y",
        "colab_type": "code",
        "outputId": "008c8143-149e-4350-aca5-dbe19603804e",
        "colab": {
          "base_uri": "https://localhost:8080/",
          "height": 54
        }
      },
      "source": [
        "!curl -s https://course.fast.ai/setup/colab | bash"
      ],
      "execution_count": 1,
      "outputs": [
        {
          "output_type": "stream",
          "text": [
            "Updating fastai...\n",
            "Done.\n"
          ],
          "name": "stdout"
        }
      ]
    },
    {
      "cell_type": "code",
      "metadata": {
        "id": "_xUeKjrtGnBP",
        "colab_type": "code",
        "colab": {}
      },
      "source": [
        "from fastai import *\n",
        "from fastai.vision import *\n",
        "import numpy as np"
      ],
      "execution_count": 0,
      "outputs": []
    },
    {
      "cell_type": "code",
      "metadata": {
        "id": "XXZYWK2pIFw8",
        "colab_type": "code",
        "outputId": "216b0b8c-bba0-425b-8f52-0abb7b6b36bb",
        "colab": {
          "base_uri": "https://localhost:8080/",
          "height": 129
        }
      },
      "source": [
        "from google.colab import drive\n",
        "drive.mount('/content/gdrive')\n"
      ],
      "execution_count": 2,
      "outputs": [
        {
          "output_type": "stream",
          "text": [
            "Go to this URL in a browser: https://accounts.google.com/o/oauth2/auth?client_id=947318989803-6bn6qk8qdgf4n4g3pfee6491hc0brc4i.apps.googleusercontent.com&redirect_uri=urn%3aietf%3awg%3aoauth%3a2.0%3aoob&response_type=code&scope=email%20https%3a%2f%2fwww.googleapis.com%2fauth%2fdocs.test%20https%3a%2f%2fwww.googleapis.com%2fauth%2fdrive%20https%3a%2f%2fwww.googleapis.com%2fauth%2fdrive.photos.readonly%20https%3a%2f%2fwww.googleapis.com%2fauth%2fpeopleapi.readonly\n",
            "\n",
            "Enter your authorization code:\n",
            "··········\n",
            "Mounted at /content/gdrive\n"
          ],
          "name": "stdout"
        }
      ]
    },
    {
      "cell_type": "code",
      "metadata": {
        "id": "I-tVOw1SOPpT",
        "colab_type": "code",
        "colab": {}
      },
      "source": [
        "import tensorflow as tf"
      ],
      "execution_count": 0,
      "outputs": []
    },
    {
      "cell_type": "code",
      "metadata": {
        "id": "zq_YKgaxOmck",
        "colab_type": "code",
        "colab": {}
      },
      "source": [
        "DATASET_PATH ='/content/gdrive/My Drive/Covid19Pics/Covid_Data_GradientCrescent/all/train' #'D:\\\\ProjectCovid19\\\\Covid_Data_GradientCrescent\\\\two\\\\train'\n",
        "test_dir = '/content/gdrive/My Drive/Covid19Pics/Covid_Data_GradientCrescent/all/test'#'D:\\\\ProjectCovid19\\\\Covid_Data_GradientCrescent\\\\two\\\\test'"
      ],
      "execution_count": 0,
      "outputs": []
    },
    {
      "cell_type": "code",
      "metadata": {
        "id": "s41epJmRPFvo",
        "colab_type": "code",
        "colab": {}
      },
      "source": [
        "IMAGE_SIZE = (150,150)\n",
        "BATCH_SIZE = 10\n",
        "NUM_EPOCHS = 100\n",
        "LEARNING_RATE =1E-4"
      ],
      "execution_count": 0,
      "outputs": []
    },
    {
      "cell_type": "code",
      "metadata": {
        "id": "0ufMgd1_1Hd9",
        "colab_type": "code",
        "colab": {}
      },
      "source": [
        ""
      ],
      "execution_count": 0,
      "outputs": []
    },
    {
      "cell_type": "code",
      "metadata": {
        "id": "FM5-IJgAP6B5",
        "colab_type": "code",
        "outputId": "16a8fe9b-c8db-49a2-ad3e-65e125d070fe",
        "colab": {
          "base_uri": "https://localhost:8080/",
          "height": 35
        }
      },
      "source": [
        "from keras.preprocessing.image import ImageDataGenerator"
      ],
      "execution_count": 8,
      "outputs": [
        {
          "output_type": "stream",
          "text": [
            "Using TensorFlow backend.\n"
          ],
          "name": "stderr"
        }
      ]
    },
    {
      "cell_type": "code",
      "metadata": {
        "id": "-bh3lkM1QQFh",
        "colab_type": "code",
        "outputId": "b5114e4a-bf3d-4bb1-fd51-11482254e62e",
        "colab": {
          "base_uri": "https://localhost:8080/",
          "height": 74
        }
      },
      "source": [
        "train_datagen = ImageDataGenerator(rescale=1./255,\n",
        " rotation_range=50,\n",
        " featurewise_center = True,\n",
        " featurewise_std_normalization = True,\n",
        " width_shift_range=0.2,\n",
        " height_shift_range=0.2,\n",
        " shear_range=0.25,\n",
        " zoom_range=0.1,\n",
        " zca_whitening = True,\n",
        " channel_shift_range = 20,\n",
        " horizontal_flip = True ,\n",
        " vertical_flip = True ,\n",
        " validation_split = 0.2,\n",
        " fill_mode='constant')\n",
        "\n"
      ],
      "execution_count": 9,
      "outputs": [
        {
          "output_type": "stream",
          "text": [
            "/usr/local/lib/python3.6/dist-packages/keras_preprocessing/image/image_data_generator.py:341: UserWarning: This ImageDataGenerator specifies `zca_whitening` which overrides setting of`featurewise_std_normalization`.\n",
            "  warnings.warn('This ImageDataGenerator specifies '\n"
          ],
          "name": "stderr"
        }
      ]
    },
    {
      "cell_type": "code",
      "metadata": {
        "id": "25IgrZaVRZDF",
        "colab_type": "code",
        "outputId": "10021805-1a01-4f9d-be76-1b00e613db54",
        "colab": {
          "base_uri": "https://localhost:8080/",
          "height": 54
        }
      },
      "source": [
        "train_batches = train_datagen.flow_from_directory(DATASET_PATH,\n",
        " target_size=IMAGE_SIZE,\n",
        " shuffle=True,\n",
        " batch_size=BATCH_SIZE,\n",
        " subset = \"training\",\n",
        " seed=42,\n",
        " class_mode=\"categorical\",\n",
        " )\n",
        "\n",
        "valid_batches = train_datagen.flow_from_directory(DATASET_PATH,\n",
        " target_size=IMAGE_SIZE,\n",
        " shuffle=True,\n",
        " batch_size=BATCH_SIZE,\n",
        " subset = \"validation\",\n",
        " seed=42,\n",
        " class_mode=\"categorical\",\n",
        " )"
      ],
      "execution_count": 10,
      "outputs": [
        {
          "output_type": "stream",
          "text": [
            "Found 224 images belonging to 4 classes.\n",
            "Found 55 images belonging to 4 classes.\n"
          ],
          "name": "stdout"
        }
      ]
    },
    {
      "cell_type": "code",
      "metadata": {
        "id": "IBoJAWx0R7h5",
        "colab_type": "code",
        "colab": {}
      },
      "source": [
        "from keras import models\n",
        "from keras import layers\n",
        "from keras.applications import VGG16\n",
        "from keras import optimizers\n",
        "from keras.layers.core import Flatten, Dense, Dropout, Lambda\n",
        "from keras.backend import sigmoid\n",
        "def swish(x, beta = 1):\n",
        "  return (x * sigmoid(beta * x))\n",
        "from tensorflow.keras.layers import BatchNormalization"
      ],
      "execution_count": 0,
      "outputs": []
    },
    {
      "cell_type": "markdown",
      "metadata": {
        "id": "ICPms4ohSHaN",
        "colab_type": "text"
      },
      "source": [
        ""
      ]
    },
    {
      "cell_type": "code",
      "metadata": {
        "id": "L6KJnqDo87Yh",
        "colab_type": "code",
        "colab": {}
      },
      "source": [
        "from keras.utils.generic_utils import get_custom_objects\n",
        "from keras.layers import Activation\n",
        "get_custom_objects().update({'swish': Activation(swish)})"
      ],
      "execution_count": 0,
      "outputs": []
    },
    {
      "cell_type": "code",
      "metadata": {
        "id": "bLBgndTcSEIB",
        "colab_type": "code",
        "outputId": "ab5b7070-9663-494e-8e46-96cdb57ed8f1",
        "colab": {
          "base_uri": "https://localhost:8080/",
          "height": 1000
        }
      },
      "source": [
        "conv_base = VGG16(weights='imagenet',\n",
        " include_top=False,\n",
        " input_shape=(150,150, 3))\n",
        "conv_base.trainable = False\n",
        "\n",
        "\n",
        "model = models.Sequential()\n",
        "model.add(conv_base)\n",
        "model.add(layers.Flatten())\n",
        "model.add(layers.Dense(512, activation='swish'))\n",
        "model.add(layers.Dense(1024, activation='swish'))\n",
        "model.add(layers.Dense(256, activation='swish'))\n",
        "model.add(layers.Dense(4, activation=\"softmax\"))\n",
        "\n",
        "model.compile(loss='categorical_crossentropy',\n",
        " \n",
        " optimizer=optimizers.Adam(lr=LEARNING_RATE),\n",
        " metrics=['accuracy'])\n",
        "\n",
        "STEP_SIZE_TRAIN=train_batches.n//train_batches.batch_size\n",
        "STEP_SIZE_VALID=valid_batches.n//valid_batches.batch_size\n",
        "history=model.fit_generator(train_batches,\n",
        " steps_per_epoch =STEP_SIZE_TRAIN,\n",
        " validation_data = valid_batches,\n",
        " validation_steps = STEP_SIZE_VALID,\n",
        " epochs= NUM_EPOCHS,\n",
        " )"
      ],
      "execution_count": 15,
      "outputs": [
        {
          "output_type": "stream",
          "text": [
            "Epoch 1/100\n"
          ],
          "name": "stdout"
        },
        {
          "output_type": "stream",
          "text": [
            "/usr/local/lib/python3.6/dist-packages/keras_preprocessing/image/image_data_generator.py:716: UserWarning: This ImageDataGenerator specifies `featurewise_center`, but it hasn't been fit on any training data. Fit it first by calling `.fit(numpy_data)`.\n",
            "  warnings.warn('This ImageDataGenerator specifies '\n",
            "/usr/local/lib/python3.6/dist-packages/keras_preprocessing/image/image_data_generator.py:735: UserWarning: This ImageDataGenerator specifies `zca_whitening`, but it hasn't been fit on any training data. Fit it first by calling `.fit(numpy_data)`.\n",
            "  warnings.warn('This ImageDataGenerator specifies '\n"
          ],
          "name": "stderr"
        },
        {
          "output_type": "stream",
          "text": [
            "22/22 [==============================] - 5s 244ms/step - loss: 1.4047 - accuracy: 0.2818 - val_loss: 1.4070 - val_accuracy: 0.2800\n",
            "Epoch 2/100\n",
            "22/22 [==============================] - 5s 236ms/step - loss: 1.2891 - accuracy: 0.3750 - val_loss: 1.2843 - val_accuracy: 0.5556\n",
            "Epoch 3/100\n",
            "22/22 [==============================] - 5s 226ms/step - loss: 1.1121 - accuracy: 0.5467 - val_loss: 0.9840 - val_accuracy: 0.6222\n",
            "Epoch 4/100\n",
            "22/22 [==============================] - 5s 221ms/step - loss: 1.0313 - accuracy: 0.5093 - val_loss: 1.0758 - val_accuracy: 0.4667\n",
            "Epoch 5/100\n",
            "22/22 [==============================] - 5s 222ms/step - loss: 0.9430 - accuracy: 0.5467 - val_loss: 0.9357 - val_accuracy: 0.5333\n",
            "Epoch 6/100\n",
            "22/22 [==============================] - 4s 196ms/step - loss: 0.8541 - accuracy: 0.6121 - val_loss: 0.3470 - val_accuracy: 0.6000\n",
            "Epoch 7/100\n",
            "22/22 [==============================] - 5s 240ms/step - loss: 0.9259 - accuracy: 0.5727 - val_loss: 0.7645 - val_accuracy: 0.6600\n",
            "Epoch 8/100\n",
            "22/22 [==============================] - 5s 237ms/step - loss: 0.7348 - accuracy: 0.6971 - val_loss: 0.7695 - val_accuracy: 0.6889\n",
            "Epoch 9/100\n",
            "22/22 [==============================] - 5s 227ms/step - loss: 0.8479 - accuracy: 0.6409 - val_loss: 1.5094 - val_accuracy: 0.6000\n",
            "Epoch 10/100\n",
            "22/22 [==============================] - 4s 197ms/step - loss: 0.7622 - accuracy: 0.6731 - val_loss: 0.7021 - val_accuracy: 0.6444\n",
            "Epoch 11/100\n",
            "22/22 [==============================] - 5s 243ms/step - loss: 0.7427 - accuracy: 0.7136 - val_loss: 0.7469 - val_accuracy: 0.7333\n",
            "Epoch 12/100\n",
            "22/22 [==============================] - 4s 204ms/step - loss: 0.6429 - accuracy: 0.7243 - val_loss: 0.5540 - val_accuracy: 0.5778\n",
            "Epoch 13/100\n",
            "22/22 [==============================] - 5s 244ms/step - loss: 0.7500 - accuracy: 0.6729 - val_loss: 0.8680 - val_accuracy: 0.6200\n",
            "Epoch 14/100\n",
            "22/22 [==============================] - 5s 237ms/step - loss: 0.6953 - accuracy: 0.6827 - val_loss: 0.6879 - val_accuracy: 0.6222\n",
            "Epoch 15/100\n",
            "22/22 [==============================] - 5s 226ms/step - loss: 0.7739 - accuracy: 0.6545 - val_loss: 2.1672 - val_accuracy: 0.6000\n",
            "Epoch 16/100\n",
            "22/22 [==============================] - 4s 204ms/step - loss: 0.7111 - accuracy: 0.7260 - val_loss: 1.2417 - val_accuracy: 0.6444\n",
            "Epoch 17/100\n",
            "22/22 [==============================] - 5s 234ms/step - loss: 0.7857 - accuracy: 0.6500 - val_loss: 0.5855 - val_accuracy: 0.7333\n",
            "Epoch 18/100\n",
            "22/22 [==============================] - 5s 208ms/step - loss: 0.6525 - accuracy: 0.7067 - val_loss: 0.8918 - val_accuracy: 0.6222\n",
            "Epoch 19/100\n",
            "22/22 [==============================] - 5s 240ms/step - loss: 0.6198 - accuracy: 0.7000 - val_loss: 1.3385 - val_accuracy: 0.6200\n",
            "Epoch 20/100\n",
            "22/22 [==============================] - 5s 249ms/step - loss: 0.6480 - accuracy: 0.7056 - val_loss: 0.6521 - val_accuracy: 0.5778\n",
            "Epoch 21/100\n",
            "22/22 [==============================] - 5s 207ms/step - loss: 0.6273 - accuracy: 0.7383 - val_loss: 0.8470 - val_accuracy: 0.6667\n",
            "Epoch 22/100\n",
            "22/22 [==============================] - 5s 225ms/step - loss: 0.6985 - accuracy: 0.6869 - val_loss: 0.4928 - val_accuracy: 0.6667\n",
            "Epoch 23/100\n",
            "22/22 [==============================] - 5s 220ms/step - loss: 0.6896 - accuracy: 0.6963 - val_loss: 0.8522 - val_accuracy: 0.5778\n",
            "Epoch 24/100\n",
            "22/22 [==============================] - 5s 213ms/step - loss: 0.6978 - accuracy: 0.7009 - val_loss: 0.3440 - val_accuracy: 0.6667\n",
            "Epoch 25/100\n",
            "22/22 [==============================] - 5s 217ms/step - loss: 0.5995 - accuracy: 0.7103 - val_loss: 1.3388 - val_accuracy: 0.6200\n",
            "Epoch 26/100\n",
            "22/22 [==============================] - 6s 261ms/step - loss: 0.6784 - accuracy: 0.7045 - val_loss: 0.8022 - val_accuracy: 0.5333\n",
            "Epoch 27/100\n",
            "22/22 [==============================] - 5s 220ms/step - loss: 0.6231 - accuracy: 0.7452 - val_loss: 1.0695 - val_accuracy: 0.5556\n",
            "Epoch 28/100\n",
            "22/22 [==============================] - 5s 229ms/step - loss: 0.6070 - accuracy: 0.7136 - val_loss: 0.4990 - val_accuracy: 0.6889\n",
            "Epoch 29/100\n",
            "22/22 [==============================] - 5s 206ms/step - loss: 0.6167 - accuracy: 0.7548 - val_loss: 0.2819 - val_accuracy: 0.7111\n",
            "Epoch 30/100\n",
            "22/22 [==============================] - 5s 244ms/step - loss: 0.4886 - accuracy: 0.7818 - val_loss: 0.4836 - val_accuracy: 0.6222\n",
            "Epoch 31/100\n",
            "22/22 [==============================] - 5s 222ms/step - loss: 0.5817 - accuracy: 0.7523 - val_loss: 0.8703 - val_accuracy: 0.5200\n",
            "Epoch 32/100\n",
            "22/22 [==============================] - 6s 255ms/step - loss: 0.6581 - accuracy: 0.7243 - val_loss: 0.5154 - val_accuracy: 0.7111\n",
            "Epoch 33/100\n",
            "22/22 [==============================] - 5s 218ms/step - loss: 0.5300 - accuracy: 0.7617 - val_loss: 0.7168 - val_accuracy: 0.6444\n",
            "Epoch 34/100\n",
            "22/22 [==============================] - 5s 219ms/step - loss: 0.5839 - accuracy: 0.7570 - val_loss: 1.6113 - val_accuracy: 0.6222\n",
            "Epoch 35/100\n",
            "22/22 [==============================] - 5s 211ms/step - loss: 0.5184 - accuracy: 0.7897 - val_loss: 0.8787 - val_accuracy: 0.5556\n",
            "Epoch 36/100\n",
            "22/22 [==============================] - 5s 206ms/step - loss: 0.5872 - accuracy: 0.7404 - val_loss: 0.7481 - val_accuracy: 0.6889\n",
            "Epoch 37/100\n",
            "22/22 [==============================] - 5s 240ms/step - loss: 0.5900 - accuracy: 0.7455 - val_loss: 0.8991 - val_accuracy: 0.5800\n",
            "Epoch 38/100\n",
            "22/22 [==============================] - 6s 255ms/step - loss: 0.6134 - accuracy: 0.6776 - val_loss: 1.0036 - val_accuracy: 0.6222\n",
            "Epoch 39/100\n",
            "22/22 [==============================] - 5s 208ms/step - loss: 0.6039 - accuracy: 0.7243 - val_loss: 0.6586 - val_accuracy: 0.6000\n",
            "Epoch 40/100\n",
            "22/22 [==============================] - 5s 217ms/step - loss: 0.6338 - accuracy: 0.7260 - val_loss: 0.7039 - val_accuracy: 0.6444\n",
            "Epoch 41/100\n",
            "22/22 [==============================] - 5s 234ms/step - loss: 0.5548 - accuracy: 0.7682 - val_loss: 0.3331 - val_accuracy: 0.7556\n",
            "Epoch 42/100\n",
            "22/22 [==============================] - 5s 205ms/step - loss: 0.6252 - accuracy: 0.7383 - val_loss: 0.2735 - val_accuracy: 0.6667\n",
            "Epoch 43/100\n",
            "22/22 [==============================] - 5s 228ms/step - loss: 0.5473 - accuracy: 0.7944 - val_loss: 0.2795 - val_accuracy: 0.7000\n",
            "Epoch 44/100\n",
            "22/22 [==============================] - 6s 284ms/step - loss: 0.6448 - accuracy: 0.6636 - val_loss: 0.7390 - val_accuracy: 0.6667\n",
            "Epoch 45/100\n",
            "22/22 [==============================] - 5s 214ms/step - loss: 0.5805 - accuracy: 0.7196 - val_loss: 0.5120 - val_accuracy: 0.6222\n",
            "Epoch 46/100\n",
            "22/22 [==============================] - 5s 222ms/step - loss: 0.5753 - accuracy: 0.7150 - val_loss: 0.9241 - val_accuracy: 0.6667\n",
            "Epoch 47/100\n",
            "22/22 [==============================] - 5s 218ms/step - loss: 0.5338 - accuracy: 0.7196 - val_loss: 0.6930 - val_accuracy: 0.6444\n",
            "Epoch 48/100\n",
            "22/22 [==============================] - 5s 230ms/step - loss: 0.4631 - accuracy: 0.8131 - val_loss: 0.3276 - val_accuracy: 0.6444\n",
            "Epoch 49/100\n",
            "22/22 [==============================] - 5s 230ms/step - loss: 0.5688 - accuracy: 0.7545 - val_loss: 0.8159 - val_accuracy: 0.5800\n",
            "Epoch 50/100\n",
            "22/22 [==============================] - 5s 250ms/step - loss: 0.5958 - accuracy: 0.7477 - val_loss: 0.5867 - val_accuracy: 0.6222\n",
            "Epoch 51/100\n",
            "22/22 [==============================] - 5s 209ms/step - loss: 0.5559 - accuracy: 0.7692 - val_loss: 0.5532 - val_accuracy: 0.7111\n",
            "Epoch 52/100\n",
            "22/22 [==============================] - 5s 228ms/step - loss: 0.5383 - accuracy: 0.7523 - val_loss: 2.0541 - val_accuracy: 0.5778\n",
            "Epoch 53/100\n",
            "22/22 [==============================] - 5s 220ms/step - loss: 0.5184 - accuracy: 0.7664 - val_loss: 0.5941 - val_accuracy: 0.7111\n",
            "Epoch 54/100\n",
            "22/22 [==============================] - 5s 219ms/step - loss: 0.5171 - accuracy: 0.7617 - val_loss: 0.2257 - val_accuracy: 0.6222\n",
            "Epoch 55/100\n",
            "22/22 [==============================] - 5s 220ms/step - loss: 0.5380 - accuracy: 0.7710 - val_loss: 1.1536 - val_accuracy: 0.6400\n",
            "Epoch 56/100\n",
            "22/22 [==============================] - 6s 266ms/step - loss: 0.5607 - accuracy: 0.7636 - val_loss: 0.7739 - val_accuracy: 0.6667\n",
            "Epoch 57/100\n",
            "22/22 [==============================] - 5s 216ms/step - loss: 0.5408 - accuracy: 0.7500 - val_loss: 0.6724 - val_accuracy: 0.7778\n",
            "Epoch 58/100\n",
            "22/22 [==============================] - 5s 221ms/step - loss: 0.5138 - accuracy: 0.7523 - val_loss: 0.4836 - val_accuracy: 0.6889\n",
            "Epoch 59/100\n",
            "22/22 [==============================] - 4s 201ms/step - loss: 0.5159 - accuracy: 0.7591 - val_loss: 0.9086 - val_accuracy: 0.6444\n",
            "Epoch 60/100\n",
            "22/22 [==============================] - 5s 238ms/step - loss: 0.6344 - accuracy: 0.7617 - val_loss: 0.7183 - val_accuracy: 0.6222\n",
            "Epoch 61/100\n",
            "22/22 [==============================] - 5s 223ms/step - loss: 0.5238 - accuracy: 0.7804 - val_loss: 0.3517 - val_accuracy: 0.7000\n",
            "Epoch 62/100\n",
            "22/22 [==============================] - 6s 251ms/step - loss: 0.5078 - accuracy: 0.7897 - val_loss: 1.0521 - val_accuracy: 0.6667\n",
            "Epoch 63/100\n",
            "22/22 [==============================] - 5s 220ms/step - loss: 0.5099 - accuracy: 0.7981 - val_loss: 0.7467 - val_accuracy: 0.6889\n",
            "Epoch 64/100\n",
            "22/22 [==============================] - 5s 227ms/step - loss: 0.4869 - accuracy: 0.7955 - val_loss: 0.4781 - val_accuracy: 0.7333\n",
            "Epoch 65/100\n",
            "22/22 [==============================] - 5s 209ms/step - loss: 0.5330 - accuracy: 0.7596 - val_loss: 0.9595 - val_accuracy: 0.5778\n",
            "Epoch 66/100\n",
            "22/22 [==============================] - 5s 230ms/step - loss: 0.5007 - accuracy: 0.7864 - val_loss: 2.3970 - val_accuracy: 0.5333\n",
            "Epoch 67/100\n",
            "22/22 [==============================] - 5s 228ms/step - loss: 0.4910 - accuracy: 0.7617 - val_loss: 1.3675 - val_accuracy: 0.6600\n",
            "Epoch 68/100\n",
            "22/22 [==============================] - 5s 248ms/step - loss: 0.5912 - accuracy: 0.7430 - val_loss: 1.0857 - val_accuracy: 0.5556\n",
            "Epoch 69/100\n",
            "22/22 [==============================] - 5s 225ms/step - loss: 0.4823 - accuracy: 0.8178 - val_loss: 0.5402 - val_accuracy: 0.6889\n",
            "Epoch 70/100\n",
            "22/22 [==============================] - 5s 212ms/step - loss: 0.5683 - accuracy: 0.7430 - val_loss: 0.6078 - val_accuracy: 0.5333\n",
            "Epoch 71/100\n",
            "22/22 [==============================] - 5s 231ms/step - loss: 0.5000 - accuracy: 0.7944 - val_loss: 0.5798 - val_accuracy: 0.6667\n",
            "Epoch 72/100\n",
            "22/22 [==============================] - 5s 212ms/step - loss: 0.5035 - accuracy: 0.7617 - val_loss: 0.8309 - val_accuracy: 0.6444\n",
            "Epoch 73/100\n",
            "22/22 [==============================] - 5s 235ms/step - loss: 0.4884 - accuracy: 0.7897 - val_loss: 0.5364 - val_accuracy: 0.7200\n",
            "Epoch 74/100\n",
            "22/22 [==============================] - 6s 258ms/step - loss: 0.4336 - accuracy: 0.8178 - val_loss: 0.9780 - val_accuracy: 0.6667\n",
            "Epoch 75/100\n",
            "22/22 [==============================] - 4s 199ms/step - loss: 0.6034 - accuracy: 0.7383 - val_loss: 0.7583 - val_accuracy: 0.6000\n",
            "Epoch 76/100\n",
            "22/22 [==============================] - 5s 231ms/step - loss: 0.5639 - accuracy: 0.7773 - val_loss: 0.6298 - val_accuracy: 0.6222\n",
            "Epoch 77/100\n",
            "22/22 [==============================] - 5s 221ms/step - loss: 0.4694 - accuracy: 0.7885 - val_loss: 0.6879 - val_accuracy: 0.6222\n",
            "Epoch 78/100\n",
            "22/22 [==============================] - 5s 218ms/step - loss: 0.5619 - accuracy: 0.7500 - val_loss: 1.1920 - val_accuracy: 0.6444\n",
            "Epoch 79/100\n",
            "22/22 [==============================] - 5s 235ms/step - loss: 0.5115 - accuracy: 0.7885 - val_loss: 0.6615 - val_accuracy: 0.7000\n",
            "Epoch 80/100\n",
            "22/22 [==============================] - 6s 257ms/step - loss: 0.5868 - accuracy: 0.7636 - val_loss: 1.1798 - val_accuracy: 0.6889\n",
            "Epoch 81/100\n",
            "22/22 [==============================] - 4s 201ms/step - loss: 0.5060 - accuracy: 0.7788 - val_loss: 0.5114 - val_accuracy: 0.6889\n",
            "Epoch 82/100\n",
            "22/22 [==============================] - 5s 219ms/step - loss: 0.4867 - accuracy: 0.7727 - val_loss: 0.5600 - val_accuracy: 0.7556\n",
            "Epoch 83/100\n",
            "22/22 [==============================] - 5s 212ms/step - loss: 0.5327 - accuracy: 0.7740 - val_loss: 0.4990 - val_accuracy: 0.7111\n",
            "Epoch 84/100\n",
            "22/22 [==============================] - 5s 243ms/step - loss: 0.4770 - accuracy: 0.8364 - val_loss: 0.6331 - val_accuracy: 0.5556\n",
            "Epoch 85/100\n",
            "22/22 [==============================] - 5s 207ms/step - loss: 0.4997 - accuracy: 0.7710 - val_loss: 1.4913 - val_accuracy: 0.6600\n",
            "Epoch 86/100\n",
            "22/22 [==============================] - 6s 270ms/step - loss: 0.4873 - accuracy: 0.7804 - val_loss: 0.4171 - val_accuracy: 0.7556\n",
            "Epoch 87/100\n",
            "22/22 [==============================] - 5s 206ms/step - loss: 0.4308 - accuracy: 0.8131 - val_loss: 0.4705 - val_accuracy: 0.6444\n",
            "Epoch 88/100\n",
            "22/22 [==============================] - 5s 228ms/step - loss: 0.4970 - accuracy: 0.7757 - val_loss: 0.7646 - val_accuracy: 0.7111\n",
            "Epoch 89/100\n",
            "22/22 [==============================] - 4s 201ms/step - loss: 0.4052 - accuracy: 0.8411 - val_loss: 0.5335 - val_accuracy: 0.5778\n",
            "Epoch 90/100\n",
            "22/22 [==============================] - 5s 223ms/step - loss: 0.6049 - accuracy: 0.7430 - val_loss: 2.9264 - val_accuracy: 0.5333\n",
            "Epoch 91/100\n",
            "22/22 [==============================] - 5s 226ms/step - loss: 0.5442 - accuracy: 0.7290 - val_loss: 1.0242 - val_accuracy: 0.6400\n",
            "Epoch 92/100\n",
            "22/22 [==============================] - 5s 248ms/step - loss: 0.4662 - accuracy: 0.7944 - val_loss: 0.6982 - val_accuracy: 0.6000\n",
            "Epoch 93/100\n",
            "22/22 [==============================] - 5s 205ms/step - loss: 0.5335 - accuracy: 0.7850 - val_loss: 0.8729 - val_accuracy: 0.7778\n",
            "Epoch 94/100\n",
            "22/22 [==============================] - 5s 237ms/step - loss: 0.4720 - accuracy: 0.7591 - val_loss: 0.9541 - val_accuracy: 0.6667\n",
            "Epoch 95/100\n",
            "22/22 [==============================] - 5s 219ms/step - loss: 0.5423 - accuracy: 0.7740 - val_loss: 0.9674 - val_accuracy: 0.7111\n",
            "Epoch 96/100\n",
            "22/22 [==============================] - 5s 216ms/step - loss: 0.4628 - accuracy: 0.8091 - val_loss: 0.7478 - val_accuracy: 0.6222\n",
            "Epoch 97/100\n",
            "22/22 [==============================] - 5s 227ms/step - loss: 0.5377 - accuracy: 0.7885 - val_loss: 0.4906 - val_accuracy: 0.6600\n",
            "Epoch 98/100\n",
            "22/22 [==============================] - 5s 242ms/step - loss: 0.4543 - accuracy: 0.7944 - val_loss: 0.9925 - val_accuracy: 0.6000\n",
            "Epoch 99/100\n",
            "22/22 [==============================] - 5s 216ms/step - loss: 0.4194 - accuracy: 0.8318 - val_loss: 1.0453 - val_accuracy: 0.6667\n",
            "Epoch 100/100\n",
            "22/22 [==============================] - 5s 220ms/step - loss: 0.4837 - accuracy: 0.7710 - val_loss: 0.2377 - val_accuracy: 0.7556\n"
          ],
          "name": "stdout"
        }
      ]
    },
    {
      "cell_type": "code",
      "metadata": {
        "id": "MpgcUSUOy0Z_",
        "colab_type": "code",
        "colab": {
          "base_uri": "https://localhost:8080/",
          "height": 573
        },
        "outputId": "2c061039-58ee-430c-f25f-3b920c57cbb2"
      },
      "source": [
        "plt.plot(history.history['accuracy'])\n",
        "plt.plot(history.history['val_accuracy'])\n",
        "plt.title('model accuracy')\n",
        "plt.ylabel('accuracy')\n",
        "plt.xlabel('epoch')\n",
        "plt.legend(['train', 'test'], loc='upper left')\n",
        "plt.show()\n",
        "# summarize history for loss\n",
        "plt.plot(history.history['loss'])\n",
        "plt.plot(history.history['val_loss'])\n",
        "plt.title('model loss')\n",
        "plt.ylabel('loss')\n",
        "plt.xlabel('epoch')\n",
        "plt.legend(['train', 'test'], loc='upper left')\n",
        "plt.show()"
      ],
      "execution_count": 16,
      "outputs": [
        {
          "output_type": "display_data",
          "data": {
            "image/png": "[encoded data removed]",
            "text/plain": [
              "<Figure size 432x288 with 1 Axes>"
            ]
          },
          "metadata": {
            "tags": [],
            "needs_background": "light"
          }
        },
        {
          "output_type": "display_data",
          "data": {
            "image/png": "[encoded data removed]",
            "text/plain": [
              "<Figure size 432x288 with 1 Axes>"
            ]
          },
          "metadata": {
            "tags": [],
            "needs_background": "light"
          }
        }
      ]
    },
    {
      "cell_type": "code",
      "metadata": {
        "id": "emFiIIsTGTLu",
        "colab_type": "code",
        "outputId": "8a7eb011-92ee-46f3-ef60-560eaac24cf6",
        "colab": {
          "base_uri": "https://localhost:8080/",
          "height": 35
        }
      },
      "source": [
        "from google.colab import drive\n",
        "drive.mount('/content/drive')"
      ],
      "execution_count": 0,
      "outputs": [
        {
          "output_type": "stream",
          "text": [
            "Mounted at /content/drive\n"
          ],
          "name": "stdout"
        }
      ]
    },
    {
      "cell_type": "code",
      "metadata": {
        "id": "4sAx1_7s1MLI",
        "colab_type": "code",
        "outputId": "7670f184-6097-4c53-aa56-a3d322644dc3",
        "colab": {
          "base_uri": "https://localhost:8080/",
          "height": 90
        }
      },
      "source": [
        "test_datagen = ImageDataGenerator(rescale=1. / 255)\n",
        "eval_generator = test_datagen.flow_from_directory(\n",
        " test_dir,target_size=IMAGE_SIZE,\n",
        " batch_size=1,\n",
        " shuffle=False,\n",
        " seed=42,\n",
        " class_mode=\"categorical\")\n",
        "\n",
        "eval_generator.reset()\n",
        "x = model.evaluate_generator(eval_generator,\n",
        " steps = np.ceil(len(eval_generator) / BATCH_SIZE),\n",
        " use_multiprocessing = False,\n",
        " verbose = 1,\n",
        " workers=1\n",
        " )\n",
        "print('Test loss:' , x[0])\n",
        "print('Test accuracy:',x[1])"
      ],
      "execution_count": 0,
      "outputs": [
        {
          "output_type": "stream",
          "text": [
            "Found 36 images belonging to 4 classes.\n",
            "4/4 [==============================] - 1s 288ms/step\n",
            "Test loss: 0.0004213160718791187\n",
            "Test accuracy: 1.0\n"
          ],
          "name": "stdout"
        }
      ]
    }
  ]
}